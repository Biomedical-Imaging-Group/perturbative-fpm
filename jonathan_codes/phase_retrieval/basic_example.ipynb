{
 "cells": [
  {
   "cell_type": "code",
   "execution_count": 1,
   "metadata": {},
   "outputs": [],
   "source": [
    "import numpy as np\n",
    "import matplotlib.pyplot as plt\n",
    "import seaborn\n",
    "seaborn.set()\n",
    "from time import time\n",
    "from tqdm import tqdm\n",
    "\n",
    "from models.random_model import random_sampling\n",
    "from algos.gradient_descent import gradient_descent\n",
    "from utils.eval import eval_vector, eval_matrix\n",
    "\n",
    "%load_ext autoreload\n",
    "%autoreload 2"
   ]
  },
  {
   "cell_type": "code",
   "execution_count": 2,
   "metadata": {},
   "outputs": [
    {
     "name": "stdout",
     "output_type": "stream",
     "text": [
      "Generating random data following the model y = |Ax|^2... \n",
      "Data generation complete\n"
     ]
    }
   ],
   "source": [
    "n = 2000\n",
    "d = 100\n",
    "(y, A, x) = random_sampling(n=n, d=d, verbose=1)"
   ]
  },
  {
   "cell_type": "code",
   "execution_count": 3,
   "metadata": {},
   "outputs": [
    {
     "name": "stdout",
     "output_type": "stream",
     "text": [
      "Computing gradient descent iteration to solve a phase retrieval problem...\n",
      "Gradient descent complete\n"
     ]
    }
   ],
   "source": [
    "x0 = np.random.randn(d, 1) / np.sqrt(100)\n",
    "x1 = gradient_descent(y, A, x0, verbose=1)"
   ]
  },
  {
   "cell_type": "code",
   "execution_count": 4,
   "metadata": {},
   "outputs": [
    {
     "name": "stdout",
     "output_type": "stream",
     "text": [
      "The first number is the correlation (close to 1 is good, it means that our estimate is correlated x1 with the solution x).\n",
      "The second number is the loss function (close to 0 is good, it means that the loss is very low).\n",
      "(0.9999999992245929, 3.073880248242423e-05)\n"
     ]
    }
   ],
   "source": [
    "print(\"The first number is the correlation (close to 1 is good, it means that our estimate is correlated x1 with the solution x).\")\n",
    "print(\"The second number is the loss function (close to 0 is good, it means that the loss is very low).\")\n",
    "print(eval_vector(A, x1, x))"
   ]
  }
 ],
 "metadata": {
  "kernelspec": {
   "display_name": "Python 3",
   "language": "python",
   "name": "python3"
  },
  "language_info": {
   "codemirror_mode": {
    "name": "ipython",
    "version": 3
   },
   "file_extension": ".py",
   "mimetype": "text/x-python",
   "name": "python",
   "nbconvert_exporter": "python",
   "pygments_lexer": "ipython3",
   "version": "3.7.4"
  }
 },
 "nbformat": 4,
 "nbformat_minor": 4
}
