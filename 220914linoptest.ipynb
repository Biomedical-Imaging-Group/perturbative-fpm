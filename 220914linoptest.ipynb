{
 "cells": [
  {
   "cell_type": "code",
   "execution_count": 1,
   "metadata": {},
   "outputs": [],
   "source": [
    "import numpy as np\n",
    "from linop import *"
   ]
  },
  {
   "cell_type": "code",
   "execution_count": 2,
   "metadata": {},
   "outputs": [],
   "source": [
    "size = 5\n",
    "real1d = np.random.randn(size)\n",
    "real2d = np.random.randn(size, size)\n",
    "complex1d = np.random.randn(size) + 1j * np.random.randn(size)\n",
    "complex2d = np.random.randn(size, size) + np.random.randn(size, size)"
   ]
  },
  {
   "cell_type": "code",
   "execution_count": 3,
   "metadata": {},
   "outputs": [],
   "source": [
    "op_mat = LinOpMatrix(real2d)\n",
    "op_mat2 = LinOpMatrix(complex2d)\n",
    "op_mat.apply(real1d)\n",
    "op_mat.apply(complex1d)\n",
    "op_mat2.apply(real1d)\n",
    "op_mat2.apply(complex1d)\n",
    "op_mat2.apply(real2d);"
   ]
  },
  {
   "cell_type": "code",
   "execution_count": 4,
   "metadata": {},
   "outputs": [],
   "source": [
    "op_mul = LinOpMul(real1d)\n",
    "op_mul2 = LinOpMul(complex1d)\n",
    "op_mul.apply(real1d)\n",
    "op_mul.apply(real2d)\n",
    "op_mul.apply(complex1d)\n",
    "op_mul2.apply(real1d)\n",
    "op_mul2.apply(complex1d);"
   ]
  },
  {
   "cell_type": "code",
   "execution_count": 5,
   "metadata": {},
   "outputs": [],
   "source": [
    "op_fft = LinOpFFT()\n",
    "op_fft2 = LinOpFFT2()\n",
    "op_fft.apply(real1d)\n",
    "op_fft.apply(complex1d)\n",
    "op_fft2.apply(real2d)\n",
    "op_fft2.apply(complex2d);"
   ]
  },
  {
   "cell_type": "code",
   "execution_count": 6,
   "metadata": {},
   "outputs": [],
   "source": [
    "op_sum = op_mat + op_mul\n",
    "op_diff = op_mat - op_mul\n",
    "op_composition = op_mat @ op_mul\n",
    "op_stack = StackLinOp([op_mat, op_mul])"
   ]
  },
  {
   "cell_type": "code",
   "execution_count": 7,
   "metadata": {},
   "outputs": [
    {
     "data": {
      "text/plain": [
       "array([-0.10911585,  5.54945171,  0.15758712, -4.270622  ,  3.60347301])"
      ]
     },
     "execution_count": 7,
     "metadata": {},
     "output_type": "execute_result"
    }
   ],
   "source": [
    "temp = op_stack.apply(real1d)\n",
    "op_stack.applyAdjoint(temp)"
   ]
  },
  {
   "cell_type": "code",
   "execution_count": 8,
   "metadata": {},
   "outputs": [
    {
     "name": "stdout",
     "output_type": "stream",
     "text": [
      "[[-1.58717082  0.12535725  0.41564814  0.59283228 -2.30729284]\n",
      " [-1.69657926  0.10612592  0.45779423 -0.02744641 -0.15637853]\n",
      " [ 0.15746562 -1.06666734  0.06128307  0.25105988  1.35485648]\n",
      " [-0.23020773 -3.94633154  0.27753535  1.37247673 -0.65336671]\n",
      " [ 0.17804086 -1.53958279  0.02887502  0.71668654  1.20918136]]\n",
      "[[ 1.20918136  0.71668654  0.02887502 -1.53958279  0.17804086]\n",
      " [-0.65336671  1.37247673  0.27753535 -3.94633154 -0.23020773]\n",
      " [ 1.35485648  0.25105988  0.06128307 -1.06666734  0.15746562]\n",
      " [-0.15637853 -0.02744641  0.45779423  0.10612592 -1.69657926]\n",
      " [-2.30729284  0.59283228  0.41564814  0.12535725 -1.58717082]]\n"
     ]
    }
   ],
   "source": [
    "op_flip = LinOpFlip()\n",
    "print(real2d)\n",
    "print(op_flip.apply(real2d))"
   ]
  },
  {
   "cell_type": "code",
   "execution_count": 9,
   "metadata": {},
   "outputs": [
    {
     "name": "stdout",
     "output_type": "stream",
     "text": [
      "[[-1.58717082  0.12535725  0.41564814  0.59283228 -2.30729284]\n",
      " [-1.69657926  0.10612592  0.45779423 -0.02744641 -0.15637853]\n",
      " [ 0.15746562 -1.06666734  0.06128307  0.25105988  1.35485648]\n",
      " [-0.23020773 -3.94633154  0.27753535  1.37247673 -0.65336671]\n",
      " [ 0.17804086 -1.53958279  0.02887502  0.71668654  1.20918136]]\n",
      "[[ 0.71668654  1.20918136  0.17804086 -1.53958279  0.02887502]\n",
      " [ 0.59283228 -2.30729284 -1.58717082  0.12535725  0.41564814]\n",
      " [-0.02744641 -0.15637853 -1.69657926  0.10612592  0.45779423]\n",
      " [ 0.25105988  1.35485648  0.15746562 -1.06666734  0.06128307]\n",
      " [ 1.37247673 -0.65336671 -0.23020773 -3.94633154  0.27753535]]\n"
     ]
    }
   ],
   "source": [
    "op_roll = LinOpRoll(shifts=(1,2), dims=(0,1))\n",
    "print(real2d)\n",
    "print(op_roll.apply(real2d))"
   ]
  },
  {
   "cell_type": "code",
   "execution_count": 10,
   "metadata": {},
   "outputs": [
    {
     "data": {
      "text/plain": [
       "5"
      ]
     },
     "execution_count": 10,
     "metadata": {},
     "output_type": "execute_result"
    }
   ],
   "source": [
    "op_sum + 1\n",
    "op_diff - 1\n",
    "1 - op_diff\n",
    "op_composition * 3\n",
    "(3 * op_composition).in_size"
   ]
  },
  {
   "cell_type": "code",
   "execution_count": 11,
   "metadata": {},
   "outputs": [],
   "source": [
    "x = np.random.randn(size)\n",
    "compl_op = op_mat @ op_fft\n",
    "y = compl_op.apply(x)"
   ]
  },
  {
   "cell_type": "code",
   "execution_count": null,
   "metadata": {},
   "outputs": [],
   "source": []
  }
 ],
 "metadata": {
  "kernelspec": {
   "display_name": "Python 3.10.4 ('cupy')",
   "language": "python",
   "name": "python3"
  },
  "language_info": {
   "codemirror_mode": {
    "name": "ipython",
    "version": 3
   },
   "file_extension": ".py",
   "mimetype": "text/x-python",
   "name": "python",
   "nbconvert_exporter": "python",
   "pygments_lexer": "ipython3",
   "version": "3.10.4"
  },
  "orig_nbformat": 4,
  "vscode": {
   "interpreter": {
    "hash": "cdfdfcb8222c43ec6ef599d8b0e3bc21cc758eff5144e7e85196d929b370cea5"
   }
  }
 },
 "nbformat": 4,
 "nbformat_minor": 2
}
