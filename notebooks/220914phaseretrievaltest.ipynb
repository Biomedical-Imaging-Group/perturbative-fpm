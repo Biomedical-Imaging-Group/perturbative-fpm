{
 "cells": [
  {
   "cell_type": "code",
   "execution_count": 1,
   "metadata": {},
   "outputs": [],
   "source": [
    "import cupy as np\n",
    "from linop import *\n",
    "from phaseretrieval import *"
   ]
  },
  {
   "cell_type": "code",
   "execution_count": 2,
   "metadata": {},
   "outputs": [],
   "source": [
    "size = 5\n",
    "real1d = np.random.randn(size)\n",
    "real2d = np.random.randn(size, size)\n",
    "complex1d = np.random.randn(size) + 1j * np.random.randn(size)\n",
    "complex2d = np.random.randn(size, size) + np.random.randn(size, size)"
   ]
  },
  {
   "cell_type": "code",
   "execution_count": 3,
   "metadata": {},
   "outputs": [],
   "source": [
    "pr = PhaseRetrievalBase(LinOpMatrix(complex2d))\n",
    "pr.apply(real1d)\n",
    "pr.apply(complex1d);"
   ]
  },
  {
   "cell_type": "code",
   "execution_count": 4,
   "metadata": {},
   "outputs": [
    {
     "name": "stdout",
     "output_type": "stream",
     "text": [
      "[0 2 3]\n"
     ]
    }
   ],
   "source": [
    "ptycho = Ptychography1d(real1d, n_img=3)\n",
    "ptycho.apply(real1d);"
   ]
  }
 ],
 "metadata": {
  "kernelspec": {
   "display_name": "Python 3.10.4 ('cupy')",
   "language": "python",
   "name": "python3"
  },
  "language_info": {
   "codemirror_mode": {
    "name": "ipython",
    "version": 3
   },
   "file_extension": ".py",
   "mimetype": "text/x-python",
   "name": "python",
   "nbconvert_exporter": "python",
   "pygments_lexer": "ipython3",
   "version": "3.10.4"
  },
  "orig_nbformat": 4,
  "vscode": {
   "interpreter": {
    "hash": "cdfdfcb8222c43ec6ef599d8b0e3bc21cc758eff5144e7e85196d929b370cea5"
   }
  }
 },
 "nbformat": 4,
 "nbformat_minor": 2
}
