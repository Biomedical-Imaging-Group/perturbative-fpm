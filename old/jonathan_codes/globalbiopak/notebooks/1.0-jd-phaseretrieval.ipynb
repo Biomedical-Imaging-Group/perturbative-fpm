{
 "cells": [
  {
   "cell_type": "code",
   "execution_count": 1,
   "metadata": {},
   "outputs": [],
   "source": [
    "import torch\n",
    "import numpy as np\n",
    "from globalbiopak.linop import *\n",
    "from globalbiopak.phaseretrieval import ForwardPhaseRetrieval\n",
    "import matplotlib.pyplot as plt"
   ]
  },
  {
   "cell_type": "code",
   "execution_count": 2,
   "metadata": {},
   "outputs": [],
   "source": [
    "d = 200\n",
    "n = 1000\n",
    "x = torch.randn(d, dtype=torch.complex64)\n",
    "A = torch.randn(n, d, dtype=torch.complex64)\n",
    "op = LinOpMatrix(A)\n",
    "forward = ForwardPhaseRetrieval(op)\n",
    "y = forward.apply(x)"
   ]
  },
  {
   "cell_type": "markdown",
   "metadata": {},
   "source": [
    "# Gradient descent"
   ]
  },
  {
   "cell_type": "code",
   "execution_count": 3,
   "metadata": {},
   "outputs": [
    {
     "name": "stdout",
     "output_type": "stream",
     "text": [
      "Final correlation (close to 1 means successful recovery):\n",
      "tensor(0.5725)\n"
     ]
    }
   ],
   "source": [
    "n_iter = 100\n",
    "step = 1e-3\n",
    "xest = torch.randn(d, dtype=torch.complex64, requires_grad=True)\n",
    "optimizer = torch.optim.SGD({xest}, lr=step, momentum=0.1, nesterov=True)\n",
    "\n",
    "for i_iter in range(n_iter):\n",
    "    optimizer.zero_grad()\n",
    "    yest = forward.apply(xest)\n",
    "    loss = torch.norm(yest-y)\n",
    "    loss.backward()\n",
    "    optimizer.step()\n",
    "\n",
    "with torch.no_grad():\n",
    "    print(\"Final correlation (close to 1 means successful recovery):\")\n",
    "    print(torch.abs(xest.T.conj() @ x) / \\\n",
    "        torch.sqrt(torch.sum(torch.abs(x)**2)) / torch.sqrt(torch.sum(torch.abs(xest)**2)))"
   ]
  },
  {
   "cell_type": "markdown",
   "metadata": {},
   "source": [
    "# Spectral method"
   ]
  },
  {
   "cell_type": "code",
   "execution_count": 4,
   "metadata": {},
   "outputs": [
    {
     "name": "stdout",
     "output_type": "stream",
     "text": [
      "Correlation after spectral method (close to 1 means successful recovery):\n",
      "tensor(0.8476)\n"
     ]
    }
   ],
   "source": [
    "xest = forward.spectralinit(y)\n",
    "with torch.no_grad():\n",
    "    print(\"Correlation after spectral method (close to 1 means successful recovery):\")\n",
    "    print(torch.abs(xest.T.conj() @ x) / \\\n",
    "        torch.sqrt(torch.sum(torch.abs(x)**2)) / torch.sqrt(torch.sum(torch.abs(xest)**2)))"
   ]
  },
  {
   "cell_type": "markdown",
   "metadata": {},
   "source": [
    "# Gradient descent after spectral initialization"
   ]
  },
  {
   "cell_type": "code",
   "execution_count": 5,
   "metadata": {},
   "outputs": [
    {
     "name": "stdout",
     "output_type": "stream",
     "text": [
      "Final correlation (close to 1 means successful recovery):\n",
      "tensor(0.9970)\n"
     ]
    }
   ],
   "source": [
    "xest.requires_grad = True\n",
    "optimizer = torch.optim.SGD({xest}, lr=step, momentum=0.1, nesterov=True)\n",
    "\n",
    "for i_iter in range(n_iter):\n",
    "    optimizer.zero_grad()\n",
    "    yest = forward.apply(xest)\n",
    "    loss = torch.norm(yest-y)\n",
    "    loss.backward()\n",
    "    optimizer.step()\n",
    "\n",
    "with torch.no_grad():\n",
    "    print(\"Final correlation (close to 1 means successful recovery):\")\n",
    "    print(torch.abs(xest.T.conj() @ x) / \\\n",
    "        torch.sqrt(torch.sum(torch.abs(x)**2)) / torch.sqrt(torch.sum(torch.abs(xest)**2)))"
   ]
  }
 ],
 "metadata": {
  "kernelspec": {
   "display_name": "tomosipo2",
   "language": "python",
   "name": "tomosipo2"
  },
  "language_info": {
   "codemirror_mode": {
    "name": "ipython",
    "version": 3
   },
   "file_extension": ".py",
   "mimetype": "text/x-python",
   "name": "python",
   "nbconvert_exporter": "python",
   "pygments_lexer": "ipython3",
   "version": "3.8.10"
  }
 },
 "nbformat": 4,
 "nbformat_minor": 4
}
