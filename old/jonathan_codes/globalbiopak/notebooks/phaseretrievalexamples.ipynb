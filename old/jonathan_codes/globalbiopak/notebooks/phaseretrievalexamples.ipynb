{
 "cells": [
  {
   "cell_type": "code",
   "execution_count": 1,
   "metadata": {},
   "outputs": [],
   "source": [
    "import torch\n",
    "import numpy as np\n",
    "from globalbiopak.linop import *\n",
    "from globalbiopak.phaseretrieval import ForwardPhaseRetrieval\n",
    "import matplotlib.pyplot as plt\n",
    "\n",
    "%load_ext autoreload\n",
    "%autoreload 2"
   ]
  },
  {
   "cell_type": "markdown",
   "metadata": {},
   "source": [
    "# Random model"
   ]
  },
  {
   "cell_type": "code",
   "execution_count": 2,
   "metadata": {},
   "outputs": [],
   "source": [
    "d = 200\n",
    "n = 1000\n",
    "x = torch.randn(d, dtype=torch.complex64)\n",
    "A = torch.randn(n, d, dtype=torch.complex64)\n",
    "op = LinOpMatrix(A)\n",
    "forward = ForwardPhaseRetrieval(op)\n",
    "y = forward.apply(x)"
   ]
  },
  {
   "cell_type": "code",
   "execution_count": 4,
   "metadata": {},
   "outputs": [
    {
     "name": "stdout",
     "output_type": "stream",
     "text": [
      "Final correlation (close to 1 means successful recovery):\n",
      "tensor(0.9974)\n"
     ]
    }
   ],
   "source": [
    "xest = forward.spectralinit(y)\n",
    "xest.requires_grad = True\n",
    "n_iter = 100\n",
    "step = 1e-3\n",
    "optimizer = torch.optim.SGD({xest}, lr=step, momentum=0.1, nesterov=True)\n",
    "\n",
    "for i_iter in range(n_iter):\n",
    "    optimizer.zero_grad()\n",
    "    yest = forward.apply(xest)\n",
    "    loss = torch.norm(yest-y)\n",
    "    loss.backward()\n",
    "    optimizer.step()\n",
    "\n",
    "with torch.no_grad():\n",
    "    print(\"Final correlation (close to 1 means successful recovery):\")\n",
    "    print(torch.abs(xest.T.conj() @ x) / \\\n",
    "        torch.sqrt(torch.sum(torch.abs(x)**2)) / torch.sqrt(torch.sum(torch.abs(xest)**2)))"
   ]
  },
  {
   "cell_type": "markdown",
   "metadata": {},
   "source": [
    "# Coded Diffraction Imaging"
   ]
  },
  {
   "cell_type": "code",
   "execution_count": 11,
   "metadata": {},
   "outputs": [],
   "source": [
    "d = 200\n",
    "n_masks = 10\n",
    "x = torch.randn(d, dtype=torch.complex64)\n",
    "masks = torch.randn(n_masks, d, dtype=torch.complex64)\n",
    "op = LinOpComposition(LinOpFFT(), LinOpMul(masks[0, :]))\n",
    "for i in range(1, n_masks):\n",
    "    op = StackLinOp(op, LinOpComposition(LinOpFFT(), LinOpMul(masks[i, :])))\n",
    "forward = ForwardPhaseRetrieval(op)\n",
    "y = forward.apply(x)"
   ]
  },
  {
   "cell_type": "code",
   "execution_count": 12,
   "metadata": {},
   "outputs": [
    {
     "name": "stdout",
     "output_type": "stream",
     "text": [
      "Final correlation (close to 1 means successful recovery):\n",
      "tensor(0.9991)\n"
     ]
    }
   ],
   "source": [
    "xest = forward.spectralinit(y)\n",
    "xest.requires_grad = True\n",
    "n_iter = 100\n",
    "step = 1e-3\n",
    "optimizer = torch.optim.SGD({xest}, lr=step, momentum=0.1, nesterov=True)\n",
    "\n",
    "for i_iter in range(n_iter):\n",
    "    optimizer.zero_grad()\n",
    "    yest = forward.apply(xest)\n",
    "    loss = torch.norm(yest-y)\n",
    "    loss.backward()\n",
    "    optimizer.step()\n",
    "\n",
    "with torch.no_grad():\n",
    "    print(\"Final correlation (close to 1 means successful recovery):\")\n",
    "    print(torch.abs(xest.T.conj() @ x) / \\\n",
    "        torch.sqrt(torch.sum(torch.abs(x)**2)) / torch.sqrt(torch.sum(torch.abs(xest)**2)))"
   ]
  },
  {
   "cell_type": "markdown",
   "metadata": {},
   "source": [
    "# Ptychography"
   ]
  },
  {
   "cell_type": "code",
   "execution_count": 40,
   "metadata": {},
   "outputs": [
    {
     "name": "stdout",
     "output_type": "stream",
     "text": [
      "The overlap is 0.9\n"
     ]
    }
   ],
   "source": [
    "d = 500\n",
    "n_img = 10\n",
    "ptycho_radius = 250\n",
    "left_origin = ptycho_radius / 2\n",
    "right_origin = d - ptycho_radius / 2\n",
    "step_size = int((right_origin - left_origin) / n_img)\n",
    "overlap = 1 - step_size / ptycho_radius\n",
    "print(f\"The overlap is {overlap}\")\n",
    "\n",
    "sampling_grid = torch.linspace(0, d-1, d)\n",
    "probe = torch.randn(d, dtype=torch.complex64) * (sampling_grid < ptycho_radius)\n",
    "\n",
    "x = torch.randn(d, dtype=torch.complex64)\n",
    "op = LinOpComposition(LinOpFFT(), LinOpMul(probe))\n",
    "for i in range(1, n_masks):\n",
    "    op = StackLinOp(op, LinOpComposition(LinOpFFT(), LinOpMul(torch.roll(probe, i*step_size))))\n",
    "forward = ForwardPhaseRetrieval(op)\n",
    "y = forward.apply(x)"
   ]
  },
  {
   "cell_type": "code",
   "execution_count": 42,
   "metadata": {},
   "outputs": [
    {
     "name": "stdout",
     "output_type": "stream",
     "text": [
      "Final correlation (close to 1 means successful recovery):\n",
      "tensor(0.9751)\n"
     ]
    }
   ],
   "source": [
    "xest = forward.spectralinit(y)\n",
    "xest.requires_grad = True\n",
    "n_iter = 1000\n",
    "step = 1e-3\n",
    "optimizer = torch.optim.SGD({xest}, lr=step, momentum=0.1, nesterov=True)\n",
    "\n",
    "for i_iter in range(n_iter):\n",
    "    optimizer.zero_grad()\n",
    "    yest = forward.apply(xest)\n",
    "    loss = torch.norm(yest-y)\n",
    "    loss.backward()\n",
    "    optimizer.step()\n",
    "\n",
    "with torch.no_grad():\n",
    "    print(\"Final correlation (close to 1 means successful recovery):\")\n",
    "    print(torch.abs(xest.T.conj() @ x) / \\\n",
    "        torch.sqrt(torch.sum(torch.abs(x)**2)) / torch.sqrt(torch.sum(torch.abs(xest)**2)))"
   ]
  }
 ],
 "metadata": {
  "interpreter": {
   "hash": "f1d661bfce65a0ea9ef0b7f44d6493ef4dc4f1873f786df8d778e19a0e0d4c6a"
  },
  "kernelspec": {
   "display_name": "Python 3.8.10 64-bit ('tomosipo2': conda)",
   "name": "python3"
  },
  "language_info": {
   "codemirror_mode": {
    "name": "ipython",
    "version": 3
   },
   "file_extension": ".py",
   "mimetype": "text/x-python",
   "name": "python",
   "nbconvert_exporter": "python",
   "pygments_lexer": "ipython3",
   "version": "3.8.10"
  },
  "orig_nbformat": 4
 },
 "nbformat": 4,
 "nbformat_minor": 2
}
